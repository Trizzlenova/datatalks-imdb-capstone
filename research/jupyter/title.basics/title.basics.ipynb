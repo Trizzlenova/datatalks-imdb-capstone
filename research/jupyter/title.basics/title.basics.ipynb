{
 "cells": [
  {
   "cell_type": "code",
   "execution_count": 1,
   "id": "390b1fb3",
   "metadata": {},
   "outputs": [],
   "source": [
    "import pandas as pd"
   ]
  },
  {
   "cell_type": "code",
   "execution_count": 2,
   "id": "9d51a6f2",
   "metadata": {},
   "outputs": [
    {
     "name": "stdout",
     "output_type": "stream",
     "text": [
      "--2023-04-09 16:17:08--  https://datasets.imdbws.com/title.basics.tsv.gz\n",
      "Resolving datasets.imdbws.com (datasets.imdbws.com)... 18.65.229.92, 18.65.229.126, 18.65.229.32, ...\n",
      "Connecting to datasets.imdbws.com (datasets.imdbws.com)|18.65.229.92|:443... connected.\n",
      "HTTP request sent, awaiting response... 200 OK\n",
      "Length: 170458420 (163M) [binary/octet-stream]\n",
      "Saving to: ‘title.basics.tsv.gz’\n",
      "\n",
      "title.basics.tsv.gz 100%[===================>] 162.56M  54.0MB/s    in 3.0s    \n",
      "\n",
      "2023-04-09 16:17:11 (54.0 MB/s) - ‘title.basics.tsv.gz’ saved [170458420/170458420]\n",
      "\n"
     ]
    }
   ],
   "source": [
    "!wget https://datasets.imdbws.com/title.basics.tsv.gz"
   ]
  },
  {
   "cell_type": "code",
   "execution_count": 3,
   "id": "0a54434a",
   "metadata": {},
   "outputs": [
    {
     "name": "stderr",
     "output_type": "stream",
     "text": [
      "/var/folders/c3/r_4cj39j3d9171vn6cwl_8y80000gn/T/ipykernel_72849/1006768213.py:1: DtypeWarning: Columns (4) have mixed types. Specify dtype option on import or set low_memory=False.\n",
      "  df = pd.read_csv('https://datasets.imdbws.com/title.basics.tsv.gz', sep='\\t')\n"
     ]
    }
   ],
   "source": [
    "df = pd.read_csv('https://datasets.imdbws.com/title.basics.tsv.gz', sep='\\t')"
   ]
  },
  {
   "cell_type": "code",
   "execution_count": 4,
   "id": "13be40b3",
   "metadata": {},
   "outputs": [
    {
     "data": {
      "text/plain": [
       "9759339"
      ]
     },
     "execution_count": 4,
     "metadata": {},
     "output_type": "execute_result"
    }
   ],
   "source": [
    "len(df)"
   ]
  },
  {
   "cell_type": "code",
   "execution_count": 5,
   "id": "3a871fb3",
   "metadata": {},
   "outputs": [
    {
     "data": {
      "text/plain": [
       "Index(['tconst', 'titleType', 'primaryTitle', 'originalTitle', 'isAdult',\n",
       "       'startYear', 'endYear', 'runtimeMinutes', 'genres'],\n",
       "      dtype='object')"
      ]
     },
     "execution_count": 5,
     "metadata": {},
     "output_type": "execute_result"
    }
   ],
   "source": [
    "df.columns"
   ]
  },
  {
   "cell_type": "code",
   "execution_count": 6,
   "id": "eb3a6b3f",
   "metadata": {},
   "outputs": [
    {
     "data": {
      "text/html": [
       "<div>\n",
       "<style scoped>\n",
       "    .dataframe tbody tr th:only-of-type {\n",
       "        vertical-align: middle;\n",
       "    }\n",
       "\n",
       "    .dataframe tbody tr th {\n",
       "        vertical-align: top;\n",
       "    }\n",
       "\n",
       "    .dataframe thead th {\n",
       "        text-align: right;\n",
       "    }\n",
       "</style>\n",
       "<table border=\"1\" class=\"dataframe\">\n",
       "  <thead>\n",
       "    <tr style=\"text-align: right;\">\n",
       "      <th></th>\n",
       "      <th>tconst</th>\n",
       "      <th>titleType</th>\n",
       "      <th>primaryTitle</th>\n",
       "      <th>originalTitle</th>\n",
       "      <th>isAdult</th>\n",
       "      <th>startYear</th>\n",
       "      <th>endYear</th>\n",
       "      <th>runtimeMinutes</th>\n",
       "      <th>genres</th>\n",
       "    </tr>\n",
       "  </thead>\n",
       "  <tbody>\n",
       "    <tr>\n",
       "      <th>0</th>\n",
       "      <td>tt0000001</td>\n",
       "      <td>short</td>\n",
       "      <td>Carmencita</td>\n",
       "      <td>Carmencita</td>\n",
       "      <td>0</td>\n",
       "      <td>1894</td>\n",
       "      <td>\\N</td>\n",
       "      <td>1</td>\n",
       "      <td>Documentary,Short</td>\n",
       "    </tr>\n",
       "    <tr>\n",
       "      <th>1</th>\n",
       "      <td>tt0000002</td>\n",
       "      <td>short</td>\n",
       "      <td>Le clown et ses chiens</td>\n",
       "      <td>Le clown et ses chiens</td>\n",
       "      <td>0</td>\n",
       "      <td>1892</td>\n",
       "      <td>\\N</td>\n",
       "      <td>5</td>\n",
       "      <td>Animation,Short</td>\n",
       "    </tr>\n",
       "    <tr>\n",
       "      <th>2</th>\n",
       "      <td>tt0000003</td>\n",
       "      <td>short</td>\n",
       "      <td>Pauvre Pierrot</td>\n",
       "      <td>Pauvre Pierrot</td>\n",
       "      <td>0</td>\n",
       "      <td>1892</td>\n",
       "      <td>\\N</td>\n",
       "      <td>4</td>\n",
       "      <td>Animation,Comedy,Romance</td>\n",
       "    </tr>\n",
       "    <tr>\n",
       "      <th>3</th>\n",
       "      <td>tt0000004</td>\n",
       "      <td>short</td>\n",
       "      <td>Un bon bock</td>\n",
       "      <td>Un bon bock</td>\n",
       "      <td>0</td>\n",
       "      <td>1892</td>\n",
       "      <td>\\N</td>\n",
       "      <td>12</td>\n",
       "      <td>Animation,Short</td>\n",
       "    </tr>\n",
       "    <tr>\n",
       "      <th>4</th>\n",
       "      <td>tt0000005</td>\n",
       "      <td>short</td>\n",
       "      <td>Blacksmith Scene</td>\n",
       "      <td>Blacksmith Scene</td>\n",
       "      <td>0</td>\n",
       "      <td>1893</td>\n",
       "      <td>\\N</td>\n",
       "      <td>1</td>\n",
       "      <td>Comedy,Short</td>\n",
       "    </tr>\n",
       "    <tr>\n",
       "      <th>5</th>\n",
       "      <td>tt0000006</td>\n",
       "      <td>short</td>\n",
       "      <td>Chinese Opium Den</td>\n",
       "      <td>Chinese Opium Den</td>\n",
       "      <td>0</td>\n",
       "      <td>1894</td>\n",
       "      <td>\\N</td>\n",
       "      <td>1</td>\n",
       "      <td>Short</td>\n",
       "    </tr>\n",
       "    <tr>\n",
       "      <th>6</th>\n",
       "      <td>tt0000007</td>\n",
       "      <td>short</td>\n",
       "      <td>Corbett and Courtney Before the Kinetograph</td>\n",
       "      <td>Corbett and Courtney Before the Kinetograph</td>\n",
       "      <td>0</td>\n",
       "      <td>1894</td>\n",
       "      <td>\\N</td>\n",
       "      <td>1</td>\n",
       "      <td>Short,Sport</td>\n",
       "    </tr>\n",
       "    <tr>\n",
       "      <th>7</th>\n",
       "      <td>tt0000008</td>\n",
       "      <td>short</td>\n",
       "      <td>Edison Kinetoscopic Record of a Sneeze</td>\n",
       "      <td>Edison Kinetoscopic Record of a Sneeze</td>\n",
       "      <td>0</td>\n",
       "      <td>1894</td>\n",
       "      <td>\\N</td>\n",
       "      <td>1</td>\n",
       "      <td>Documentary,Short</td>\n",
       "    </tr>\n",
       "    <tr>\n",
       "      <th>8</th>\n",
       "      <td>tt0000009</td>\n",
       "      <td>movie</td>\n",
       "      <td>Miss Jerry</td>\n",
       "      <td>Miss Jerry</td>\n",
       "      <td>0</td>\n",
       "      <td>1894</td>\n",
       "      <td>\\N</td>\n",
       "      <td>45</td>\n",
       "      <td>Romance</td>\n",
       "    </tr>\n",
       "    <tr>\n",
       "      <th>9</th>\n",
       "      <td>tt0000010</td>\n",
       "      <td>short</td>\n",
       "      <td>Leaving the Factory</td>\n",
       "      <td>La sortie de l'usine Lumière à Lyon</td>\n",
       "      <td>0</td>\n",
       "      <td>1895</td>\n",
       "      <td>\\N</td>\n",
       "      <td>1</td>\n",
       "      <td>Documentary,Short</td>\n",
       "    </tr>\n",
       "  </tbody>\n",
       "</table>\n",
       "</div>"
      ],
      "text/plain": [
       "      tconst titleType                                 primaryTitle  \\\n",
       "0  tt0000001     short                                   Carmencita   \n",
       "1  tt0000002     short                       Le clown et ses chiens   \n",
       "2  tt0000003     short                               Pauvre Pierrot   \n",
       "3  tt0000004     short                                  Un bon bock   \n",
       "4  tt0000005     short                             Blacksmith Scene   \n",
       "5  tt0000006     short                            Chinese Opium Den   \n",
       "6  tt0000007     short  Corbett and Courtney Before the Kinetograph   \n",
       "7  tt0000008     short       Edison Kinetoscopic Record of a Sneeze   \n",
       "8  tt0000009     movie                                   Miss Jerry   \n",
       "9  tt0000010     short                          Leaving the Factory   \n",
       "\n",
       "                                 originalTitle isAdult startYear endYear  \\\n",
       "0                                   Carmencita       0      1894      \\N   \n",
       "1                       Le clown et ses chiens       0      1892      \\N   \n",
       "2                               Pauvre Pierrot       0      1892      \\N   \n",
       "3                                  Un bon bock       0      1892      \\N   \n",
       "4                             Blacksmith Scene       0      1893      \\N   \n",
       "5                            Chinese Opium Den       0      1894      \\N   \n",
       "6  Corbett and Courtney Before the Kinetograph       0      1894      \\N   \n",
       "7       Edison Kinetoscopic Record of a Sneeze       0      1894      \\N   \n",
       "8                                   Miss Jerry       0      1894      \\N   \n",
       "9          La sortie de l'usine Lumière à Lyon       0      1895      \\N   \n",
       "\n",
       "  runtimeMinutes                    genres  \n",
       "0              1         Documentary,Short  \n",
       "1              5           Animation,Short  \n",
       "2              4  Animation,Comedy,Romance  \n",
       "3             12           Animation,Short  \n",
       "4              1              Comedy,Short  \n",
       "5              1                     Short  \n",
       "6              1               Short,Sport  \n",
       "7              1         Documentary,Short  \n",
       "8             45                   Romance  \n",
       "9              1         Documentary,Short  "
      ]
     },
     "execution_count": 6,
     "metadata": {},
     "output_type": "execute_result"
    }
   ],
   "source": [
    "df.head(10)"
   ]
  },
  {
   "cell_type": "code",
   "execution_count": 7,
   "id": "8ae6ac5e",
   "metadata": {},
   "outputs": [
    {
     "data": {
      "text/plain": [
       "'\\nschema = {\\n    tconst = Column(String), # ID\\n    titleType = Column(String), # the type/format of the title\\n    primaryTitle = Column(String), # more popular title\\n    originalTitle = Column(String),\\n    isAdult = Column(Integer), # 0: non-adult title; 1: adult title\\n    startYear = Column(Integer),\\n    endYear = Column(Integer),\\n    runTimeMinutes = Column(Integer),\\n    genres = List(Column(String)) # additional table?\\n'"
      ]
     },
     "execution_count": 7,
     "metadata": {},
     "output_type": "execute_result"
    }
   ],
   "source": [
    "'''\n",
    "schema = {\n",
    "    tconst = Column(String), # ID\n",
    "    titleType = Column(String), # the type/format of the title\n",
    "    primaryTitle = Column(String), # more popular title\n",
    "    originalTitle = Column(String),\n",
    "    isAdult = Column(Integer), # 0: non-adult title; 1: adult title\n",
    "    startYear = Column(Integer),\n",
    "    endYear = Column(Integer),\n",
    "    runTimeMinutes = Column(Integer),\n",
    "    genres = List(Column(String)) # additional table?\n",
    "'''"
   ]
  },
  {
   "cell_type": "code",
   "execution_count": 11,
   "id": "f0f3fecc",
   "metadata": {},
   "outputs": [],
   "source": [
    "duplicates = df[df.duplicated(subset=['tconst']) == True]"
   ]
  },
  {
   "cell_type": "code",
   "execution_count": 12,
   "id": "f280e0e6",
   "metadata": {},
   "outputs": [
    {
     "data": {
      "text/plain": [
       "0"
      ]
     },
     "execution_count": 12,
     "metadata": {},
     "output_type": "execute_result"
    }
   ],
   "source": [
    "len(duplicates)"
   ]
  }
 ],
 "metadata": {
  "kernelspec": {
   "display_name": "Python 3 (ipykernel)",
   "language": "python",
   "name": "python3"
  },
  "language_info": {
   "codemirror_mode": {
    "name": "ipython",
    "version": 3
   },
   "file_extension": ".py",
   "mimetype": "text/x-python",
   "name": "python",
   "nbconvert_exporter": "python",
   "pygments_lexer": "ipython3",
   "version": "3.9.16"
  }
 },
 "nbformat": 4,
 "nbformat_minor": 5
}
