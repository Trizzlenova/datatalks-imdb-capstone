{
 "cells": [
  {
   "cell_type": "code",
   "execution_count": 1,
   "id": "390b1fb3",
   "metadata": {},
   "outputs": [],
   "source": [
    "import pyspark\n",
    "from pyspark.sql import SparkSession, types"
   ]
  },
  {
   "cell_type": "code",
   "execution_count": 2,
   "id": "9d51a6f2",
   "metadata": {},
   "outputs": [
    {
     "name": "stderr",
     "output_type": "stream",
     "text": [
      "Setting default log level to \"WARN\".\n",
      "To adjust logging level use sc.setLogLevel(newLevel). For SparkR, use setLogLevel(newLevel).\n"
     ]
    },
    {
     "name": "stdout",
     "output_type": "stream",
     "text": [
      "23/04/18 09:12:03 WARN NativeCodeLoader: Unable to load native-hadoop library for your platform... using builtin-java classes where applicable\n"
     ]
    }
   ],
   "source": [
    "spark = SparkSession.builder \\\n",
    "    .master(\"local[*]\") \\\n",
    "    .appName('test') \\\n",
    "    .getOrCreate()"
   ]
  },
  {
   "cell_type": "code",
   "execution_count": 24,
   "id": "0a54434a",
   "metadata": {},
   "outputs": [],
   "source": [
    "df = spark.read \\\n",
    "    .option(\"header\", \"true\") \\\n",
    "    .csv('title.basics.tsv.gz', sep='\\t')"
   ]
  },
  {
   "cell_type": "code",
   "execution_count": 6,
   "id": "13be40b3",
   "metadata": {},
   "outputs": [
    {
     "name": "stderr",
     "output_type": "stream",
     "text": [
      "                                                                                \r"
     ]
    },
    {
     "data": {
      "text/plain": [
       "9759339"
      ]
     },
     "execution_count": 6,
     "metadata": {},
     "output_type": "execute_result"
    }
   ],
   "source": [
    "df.count()"
   ]
  },
  {
   "cell_type": "code",
   "execution_count": 7,
   "id": "3a871fb3",
   "metadata": {},
   "outputs": [
    {
     "name": "stdout",
     "output_type": "stream",
     "text": [
      "+---------+---------+--------------------+--------------------+-------+---------+-------+--------------+--------------------+\n",
      "|   tconst|titleType|        primaryTitle|       originalTitle|isAdult|startYear|endYear|runtimeMinutes|              genres|\n",
      "+---------+---------+--------------------+--------------------+-------+---------+-------+--------------+--------------------+\n",
      "|tt0000001|    short|          Carmencita|          Carmencita|      0|     1894|     \\N|             1|   Documentary,Short|\n",
      "|tt0000002|    short|Le clown et ses c...|Le clown et ses c...|      0|     1892|     \\N|             5|     Animation,Short|\n",
      "|tt0000003|    short|      Pauvre Pierrot|      Pauvre Pierrot|      0|     1892|     \\N|             4|Animation,Comedy,...|\n",
      "|tt0000004|    short|         Un bon bock|         Un bon bock|      0|     1892|     \\N|            12|     Animation,Short|\n",
      "|tt0000005|    short|    Blacksmith Scene|    Blacksmith Scene|      0|     1893|     \\N|             1|        Comedy,Short|\n",
      "|tt0000006|    short|   Chinese Opium Den|   Chinese Opium Den|      0|     1894|     \\N|             1|               Short|\n",
      "|tt0000007|    short|Corbett and Court...|Corbett and Court...|      0|     1894|     \\N|             1|         Short,Sport|\n",
      "|tt0000008|    short|Edison Kinetoscop...|Edison Kinetoscop...|      0|     1894|     \\N|             1|   Documentary,Short|\n",
      "|tt0000009|    movie|          Miss Jerry|          Miss Jerry|      0|     1894|     \\N|            45|             Romance|\n",
      "|tt0000010|    short| Leaving the Factory|La sortie de l'us...|      0|     1895|     \\N|             1|   Documentary,Short|\n",
      "|tt0000011|    short|Akrobatisches Pot...|Akrobatisches Pot...|      0|     1895|     \\N|             1|   Documentary,Short|\n",
      "|tt0000012|    short|The Arrival of a ...|L'arrivée d'un tr...|      0|     1896|     \\N|             1|   Documentary,Short|\n",
      "|tt0000013|    short|The Photographica...|Le débarquement d...|      0|     1895|     \\N|             1|   Documentary,Short|\n",
      "|tt0000014|    short| The Waterer Watered|   L'arroseur arrosé|      0|     1895|     \\N|             1|        Comedy,Short|\n",
      "|tt0000015|    short| Autour d'une cabine| Autour d'une cabine|      0|     1894|     \\N|             2|     Animation,Short|\n",
      "|tt0000016|    short|Boat Leaving the ...|Barque sortant du...|      0|     1895|     \\N|             1|   Documentary,Short|\n",
      "|tt0000017|    short|Italienischer Bau...|Italienischer Bau...|      0|     1895|     \\N|             1|   Documentary,Short|\n",
      "|tt0000018|    short|Das boxende Känguruh|Das boxende Känguruh|      0|     1895|     \\N|             1|               Short|\n",
      "|tt0000019|    short|    The Clown Barber|    The Clown Barber|      0|     1898|     \\N|            \\N|        Comedy,Short|\n",
      "|tt0000020|    short|      The Derby 1895|      The Derby 1895|      0|     1895|     \\N|             1|Documentary,Short...|\n",
      "+---------+---------+--------------------+--------------------+-------+---------+-------+--------------+--------------------+\n",
      "only showing top 20 rows\n",
      "\n"
     ]
    }
   ],
   "source": [
    "df.show()"
   ]
  },
  {
   "cell_type": "code",
   "execution_count": 9,
   "id": "eb3a6b3f",
   "metadata": {},
   "outputs": [
    {
     "name": "stdout",
     "output_type": "stream",
     "text": [
      "+--------------------+--------------------+\n",
      "|        primaryTitle|       originalTitle|\n",
      "+--------------------+--------------------+\n",
      "|          Carmencita|          Carmencita|\n",
      "|Le clown et ses c...|Le clown et ses c...|\n",
      "|      Pauvre Pierrot|      Pauvre Pierrot|\n",
      "|         Un bon bock|         Un bon bock|\n",
      "|    Blacksmith Scene|    Blacksmith Scene|\n",
      "|   Chinese Opium Den|   Chinese Opium Den|\n",
      "|Corbett and Court...|Corbett and Court...|\n",
      "|Edison Kinetoscop...|Edison Kinetoscop...|\n",
      "|          Miss Jerry|          Miss Jerry|\n",
      "| Leaving the Factory|La sortie de l'us...|\n",
      "|Akrobatisches Pot...|Akrobatisches Pot...|\n",
      "|The Arrival of a ...|L'arrivée d'un tr...|\n",
      "|The Photographica...|Le débarquement d...|\n",
      "| The Waterer Watered|   L'arroseur arrosé|\n",
      "| Autour d'une cabine| Autour d'une cabine|\n",
      "|Boat Leaving the ...|Barque sortant du...|\n",
      "|Italienischer Bau...|Italienischer Bau...|\n",
      "|Das boxende Känguruh|Das boxende Känguruh|\n",
      "|    The Clown Barber|    The Clown Barber|\n",
      "|      The Derby 1895|      The Derby 1895|\n",
      "+--------------------+--------------------+\n",
      "only showing top 20 rows\n",
      "\n"
     ]
    }
   ],
   "source": [
    "df.select('primaryTitle', 'originalTitle').show()"
   ]
  },
  {
   "cell_type": "code",
   "execution_count": 7,
   "id": "8ae6ac5e",
   "metadata": {},
   "outputs": [
    {
     "data": {
      "text/plain": [
       "'\\nschema = {\\n    tconst = Column(String), # ID\\n    titleType = Column(String), # the type/format of the title\\n    primaryTitle = Column(String), # more popular title\\n    originalTitle = Column(String),\\n    isAdult = Column(Integer), # 0: non-adult title; 1: adult title\\n    startYear = Column(Integer),\\n    endYear = Column(Integer),\\n    runTimeMinutes = Column(Integer),\\n    genres = List(Column(String)) # additional table?\\n'"
      ]
     },
     "execution_count": 7,
     "metadata": {},
     "output_type": "execute_result"
    }
   ],
   "source": [
    "'''\n",
    "schema = {\n",
    "    tconst = Column(String), # ID\n",
    "    titleType = Column(String), # the type/format of the title\n",
    "    primaryTitle = Column(String), # more popular title\n",
    "    originalTitle = Column(String),\n",
    "    isAdult = Column(Integer), # 0: non-adult title; 1: adult title\n",
    "    startYear = Column(Integer),\n",
    "    endYear = Column(Integer),\n",
    "    runTimeMinutes = Column(Integer),\n",
    "    genres = List(Column(String)) # additional table?\n",
    "'''"
   ]
  },
  {
   "cell_type": "code",
   "execution_count": 13,
   "id": "f0f3fecc",
   "metadata": {},
   "outputs": [
    {
     "name": "stdout",
     "output_type": "stream",
     "text": [
      "+---------+---------+--------------------+--------------------+-------+---------+-------+--------------+--------------------+\n",
      "|   tconst|titleType|        primaryTitle|       originalTitle|isAdult|startYear|endYear|runtimeMinutes|              genres|\n",
      "+---------+---------+--------------------+--------------------+-------+---------+-------+--------------+--------------------+\n",
      "|tt0000001|    short|          Carmencita|          Carmencita|      0|     1894|     \\N|             1|   Documentary,Short|\n",
      "|tt0000002|    short|Le clown et ses c...|Le clown et ses c...|      0|     1892|     \\N|             5|     Animation,Short|\n",
      "|tt0000003|    short|      Pauvre Pierrot|      Pauvre Pierrot|      0|     1892|     \\N|             4|Animation,Comedy,...|\n",
      "|tt0000004|    short|         Un bon bock|         Un bon bock|      0|     1892|     \\N|            12|     Animation,Short|\n",
      "|tt0000005|    short|    Blacksmith Scene|    Blacksmith Scene|      0|     1893|     \\N|             1|        Comedy,Short|\n",
      "|tt0000006|    short|   Chinese Opium Den|   Chinese Opium Den|      0|     1894|     \\N|             1|               Short|\n",
      "|tt0000007|    short|Corbett and Court...|Corbett and Court...|      0|     1894|     \\N|             1|         Short,Sport|\n",
      "|tt0000008|    short|Edison Kinetoscop...|Edison Kinetoscop...|      0|     1894|     \\N|             1|   Documentary,Short|\n",
      "|tt0000009|    movie|          Miss Jerry|          Miss Jerry|      0|     1894|     \\N|            45|             Romance|\n",
      "|tt0000010|    short| Leaving the Factory|La sortie de l'us...|      0|     1895|     \\N|             1|   Documentary,Short|\n",
      "+---------+---------+--------------------+--------------------+-------+---------+-------+--------------+--------------------+\n",
      "\n"
     ]
    }
   ],
   "source": [
    "df.createOrReplaceTempView(\"titles\")\n",
    "\n",
    "sql_df = spark.sql(\"SELECT * FROM titles LIMIT 10\")\n",
    "sql_df.show()"
   ]
  },
  {
   "cell_type": "code",
   "execution_count": 25,
   "id": "8631ce46",
   "metadata": {},
   "outputs": [
    {
     "name": "stderr",
     "output_type": "stream",
     "text": [
      "\r",
      "[Stage 12:>                                                         (0 + 1) / 1]\r"
     ]
    },
    {
     "name": "stdout",
     "output_type": "stream",
     "text": [
      "+-------+\n",
      "|isAdult|\n",
      "+-------+\n",
      "|   2020|\n",
      "|   2019|\n",
      "|   2017|\n",
      "|   2014|\n",
      "|   2005|\n",
      "|      0|\n",
      "|     \\N|\n",
      "|   1981|\n",
      "|   2022|\n",
      "|   2023|\n",
      "|      1|\n",
      "+-------+\n",
      "\n"
     ]
    },
    {
     "name": "stderr",
     "output_type": "stream",
     "text": [
      "\r",
      "                                                                                \r"
     ]
    }
   ],
   "source": [
    "df.select('isAdult').distinct().show()"
   ]
  },
  {
   "cell_type": "code",
   "execution_count": 20,
   "id": "f280e0e6",
   "metadata": {},
   "outputs": [],
   "source": [
    "from pyspark.sql import types\n",
    "title_schema = types.StructType([\n",
    "    types.StructField('tconst', types.StringType(), True),\n",
    "    types.StructField('titleType', types.StringType(), True),\n",
    "    types.StructField('primaryTitle', types.StringType(), True),\n",
    "    types.StructField('originalTitle', types.StringType(), True),\n",
    "    types.StructField('isAdult', types.IntegerType(), True),\n",
    "    types.StructField('startYear', types.IntegerType(), True),\n",
    "    types.StructField('endYear', types.IntegerType(), True),\n",
    "    types.StructField('runTimeMinutes', types.IntegerType(), True),\n",
    "    types.StructField('genres', types.StringType(), True)\n",
    "])"
   ]
  },
  {
   "cell_type": "code",
   "execution_count": 35,
   "id": "02c80851",
   "metadata": {},
   "outputs": [],
   "source": [
    "df = spark.read \\\n",
    "    .option(\"header\", \"true\") \\\n",
    "    .csv(\n",
    "        'title.basics.tsv.gz', \n",
    "        sep='\\t',\n",
    "        schema=title_schema\n",
    "    )"
   ]
  },
  {
   "cell_type": "code",
   "execution_count": 28,
   "id": "88165ca8",
   "metadata": {},
   "outputs": [
    {
     "data": {
      "text/plain": [
       "IntegerType()"
      ]
     },
     "execution_count": 28,
     "metadata": {},
     "output_type": "execute_result"
    }
   ],
   "source": [
    "df.schema['isAdult'].dataType"
   ]
  },
  {
   "cell_type": "code",
   "execution_count": 38,
   "id": "7bfb8e6f",
   "metadata": {},
   "outputs": [
    {
     "name": "stderr",
     "output_type": "stream",
     "text": [
      "\r",
      "[Stage 24:>                                                         (0 + 1) / 1]\r"
     ]
    },
    {
     "name": "stdout",
     "output_type": "stream",
     "text": [
      "+-------+\n",
      "|isAdult|\n",
      "+-------+\n",
      "|   null|\n",
      "|      1|\n",
      "|      0|\n",
      "+-------+\n",
      "\n"
     ]
    },
    {
     "name": "stderr",
     "output_type": "stream",
     "text": [
      "\r",
      "                                                                                \r"
     ]
    }
   ],
   "source": [
    "df1.select('isAdult').distinct().show()"
   ]
  },
  {
   "cell_type": "code",
   "execution_count": 37,
   "id": "b62e10dc",
   "metadata": {},
   "outputs": [],
   "source": [
    "from pyspark.sql.functions import when\n",
    "df1 = df.withColumn('isAdult', when(df.isAdult > 1, None) \\\n",
    "                    .otherwise(df.isAdult))"
   ]
  }
 ],
 "metadata": {
  "kernelspec": {
   "display_name": "Python 3 (ipykernel)",
   "language": "python",
   "name": "python3"
  },
  "language_info": {
   "codemirror_mode": {
    "name": "ipython",
    "version": 3
   },
   "file_extension": ".py",
   "mimetype": "text/x-python",
   "name": "python",
   "nbconvert_exporter": "python",
   "pygments_lexer": "ipython3",
   "version": "3.9.16"
  }
 },
 "nbformat": 4,
 "nbformat_minor": 5
}
