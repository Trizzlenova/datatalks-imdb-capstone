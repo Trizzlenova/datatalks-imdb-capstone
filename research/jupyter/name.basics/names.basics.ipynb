{
 "cells": [
  {
   "cell_type": "code",
   "execution_count": 29,
   "id": "390b1fb3",
   "metadata": {},
   "outputs": [],
   "source": [
    "import pandas as pd"
   ]
  },
  {
   "cell_type": "code",
   "execution_count": 3,
   "id": "9d51a6f2",
   "metadata": {},
   "outputs": [
    {
     "name": "stdout",
     "output_type": "stream",
     "text": [
      "--2023-04-09 10:57:10--  https://datasets.imdbws.com/name.basics.tsv.gz\n",
      "Resolving datasets.imdbws.com (datasets.imdbws.com)... 18.65.229.63, 18.65.229.92, 18.65.229.126, ...\n",
      "Connecting to datasets.imdbws.com (datasets.imdbws.com)|18.65.229.63|:443... connected.\n",
      "HTTP request sent, awaiting response... 200 OK\n",
      "Length: 243599575 (232M) [binary/octet-stream]\n",
      "Saving to: ‘name.basics.tsv.gz.1’\n",
      "\n",
      "name.basics.tsv.gz. 100%[===================>] 232.31M  62.5MB/s    in 3.8s    \n",
      "\n",
      "2023-04-09 10:57:14 (60.5 MB/s) - ‘name.basics.tsv.gz.1’ saved [243599575/243599575]\n",
      "\n"
     ]
    }
   ],
   "source": [
    "!wget https://datasets.imdbws.com/name.basics.tsv.gz"
   ]
  },
  {
   "cell_type": "code",
   "execution_count": 30,
   "id": "0a54434a",
   "metadata": {},
   "outputs": [],
   "source": [
    "df = pd.read_csv('https://datasets.imdbws.com/name.basics.tsv.gz', sep='\\t')"
   ]
  },
  {
   "cell_type": "code",
   "execution_count": 31,
   "id": "13be40b3",
   "metadata": {},
   "outputs": [
    {
     "data": {
      "text/plain": [
       "12433969"
      ]
     },
     "execution_count": 31,
     "metadata": {},
     "output_type": "execute_result"
    }
   ],
   "source": [
    "len(df)"
   ]
  },
  {
   "cell_type": "code",
   "execution_count": 11,
   "id": "3a871fb3",
   "metadata": {},
   "outputs": [
    {
     "data": {
      "text/plain": [
       "Index(['nconst', 'primaryName', 'birthYear', 'deathYear', 'primaryProfession',\n",
       "       'knownForTitles'],\n",
       "      dtype='object')"
      ]
     },
     "execution_count": 11,
     "metadata": {},
     "output_type": "execute_result"
    }
   ],
   "source": [
    "df.columns"
   ]
  },
  {
   "cell_type": "code",
   "execution_count": 32,
   "id": "eb3a6b3f",
   "metadata": {},
   "outputs": [
    {
     "data": {
      "text/html": [
       "<div>\n",
       "<style scoped>\n",
       "    .dataframe tbody tr th:only-of-type {\n",
       "        vertical-align: middle;\n",
       "    }\n",
       "\n",
       "    .dataframe tbody tr th {\n",
       "        vertical-align: top;\n",
       "    }\n",
       "\n",
       "    .dataframe thead th {\n",
       "        text-align: right;\n",
       "    }\n",
       "</style>\n",
       "<table border=\"1\" class=\"dataframe\">\n",
       "  <thead>\n",
       "    <tr style=\"text-align: right;\">\n",
       "      <th></th>\n",
       "      <th>nconst</th>\n",
       "      <th>primaryName</th>\n",
       "      <th>birthYear</th>\n",
       "      <th>deathYear</th>\n",
       "      <th>primaryProfession</th>\n",
       "      <th>knownForTitles</th>\n",
       "    </tr>\n",
       "  </thead>\n",
       "  <tbody>\n",
       "    <tr>\n",
       "      <th>0</th>\n",
       "      <td>nm0000001</td>\n",
       "      <td>Fred Astaire</td>\n",
       "      <td>1899</td>\n",
       "      <td>1987</td>\n",
       "      <td>soundtrack,actor,miscellaneous</td>\n",
       "      <td>tt0045537,tt0053137,tt0072308,tt0050419</td>\n",
       "    </tr>\n",
       "    <tr>\n",
       "      <th>1</th>\n",
       "      <td>nm0000002</td>\n",
       "      <td>Lauren Bacall</td>\n",
       "      <td>1924</td>\n",
       "      <td>2014</td>\n",
       "      <td>actress,soundtrack</td>\n",
       "      <td>tt0037382,tt0117057,tt0038355,tt0075213</td>\n",
       "    </tr>\n",
       "    <tr>\n",
       "      <th>2</th>\n",
       "      <td>nm0000003</td>\n",
       "      <td>Brigitte Bardot</td>\n",
       "      <td>1934</td>\n",
       "      <td>\\N</td>\n",
       "      <td>actress,soundtrack,music_department</td>\n",
       "      <td>tt0057345,tt0056404,tt0054452,tt0049189</td>\n",
       "    </tr>\n",
       "    <tr>\n",
       "      <th>3</th>\n",
       "      <td>nm0000004</td>\n",
       "      <td>John Belushi</td>\n",
       "      <td>1949</td>\n",
       "      <td>1982</td>\n",
       "      <td>actor,soundtrack,writer</td>\n",
       "      <td>tt0072562,tt0080455,tt0077975,tt0078723</td>\n",
       "    </tr>\n",
       "    <tr>\n",
       "      <th>4</th>\n",
       "      <td>nm0000005</td>\n",
       "      <td>Ingmar Bergman</td>\n",
       "      <td>1918</td>\n",
       "      <td>2007</td>\n",
       "      <td>writer,director,actor</td>\n",
       "      <td>tt0083922,tt0050976,tt0060827,tt0050986</td>\n",
       "    </tr>\n",
       "    <tr>\n",
       "      <th>5</th>\n",
       "      <td>nm0000006</td>\n",
       "      <td>Ingrid Bergman</td>\n",
       "      <td>1915</td>\n",
       "      <td>1982</td>\n",
       "      <td>actress,soundtrack,producer</td>\n",
       "      <td>tt0036855,tt0038109,tt0038787,tt0034583</td>\n",
       "    </tr>\n",
       "    <tr>\n",
       "      <th>6</th>\n",
       "      <td>nm0000007</td>\n",
       "      <td>Humphrey Bogart</td>\n",
       "      <td>1899</td>\n",
       "      <td>1957</td>\n",
       "      <td>actor,soundtrack,producer</td>\n",
       "      <td>tt0042593,tt0037382,tt0043265,tt0034583</td>\n",
       "    </tr>\n",
       "    <tr>\n",
       "      <th>7</th>\n",
       "      <td>nm0000008</td>\n",
       "      <td>Marlon Brando</td>\n",
       "      <td>1924</td>\n",
       "      <td>2004</td>\n",
       "      <td>actor,soundtrack,director</td>\n",
       "      <td>tt0068646,tt0078788,tt0047296,tt0070849</td>\n",
       "    </tr>\n",
       "    <tr>\n",
       "      <th>8</th>\n",
       "      <td>nm0000009</td>\n",
       "      <td>Richard Burton</td>\n",
       "      <td>1925</td>\n",
       "      <td>1984</td>\n",
       "      <td>actor,soundtrack,producer</td>\n",
       "      <td>tt0059749,tt0087803,tt0061184,tt0057877</td>\n",
       "    </tr>\n",
       "    <tr>\n",
       "      <th>9</th>\n",
       "      <td>nm0000010</td>\n",
       "      <td>James Cagney</td>\n",
       "      <td>1899</td>\n",
       "      <td>1986</td>\n",
       "      <td>actor,soundtrack,director</td>\n",
       "      <td>tt0029870,tt0031867,tt0035575,tt0042041</td>\n",
       "    </tr>\n",
       "  </tbody>\n",
       "</table>\n",
       "</div>"
      ],
      "text/plain": [
       "      nconst      primaryName birthYear deathYear  \\\n",
       "0  nm0000001     Fred Astaire      1899      1987   \n",
       "1  nm0000002    Lauren Bacall      1924      2014   \n",
       "2  nm0000003  Brigitte Bardot      1934        \\N   \n",
       "3  nm0000004     John Belushi      1949      1982   \n",
       "4  nm0000005   Ingmar Bergman      1918      2007   \n",
       "5  nm0000006   Ingrid Bergman      1915      1982   \n",
       "6  nm0000007  Humphrey Bogart      1899      1957   \n",
       "7  nm0000008    Marlon Brando      1924      2004   \n",
       "8  nm0000009   Richard Burton      1925      1984   \n",
       "9  nm0000010     James Cagney      1899      1986   \n",
       "\n",
       "                     primaryProfession  \\\n",
       "0       soundtrack,actor,miscellaneous   \n",
       "1                   actress,soundtrack   \n",
       "2  actress,soundtrack,music_department   \n",
       "3              actor,soundtrack,writer   \n",
       "4                writer,director,actor   \n",
       "5          actress,soundtrack,producer   \n",
       "6            actor,soundtrack,producer   \n",
       "7            actor,soundtrack,director   \n",
       "8            actor,soundtrack,producer   \n",
       "9            actor,soundtrack,director   \n",
       "\n",
       "                            knownForTitles  \n",
       "0  tt0045537,tt0053137,tt0072308,tt0050419  \n",
       "1  tt0037382,tt0117057,tt0038355,tt0075213  \n",
       "2  tt0057345,tt0056404,tt0054452,tt0049189  \n",
       "3  tt0072562,tt0080455,tt0077975,tt0078723  \n",
       "4  tt0083922,tt0050976,tt0060827,tt0050986  \n",
       "5  tt0036855,tt0038109,tt0038787,tt0034583  \n",
       "6  tt0042593,tt0037382,tt0043265,tt0034583  \n",
       "7  tt0068646,tt0078788,tt0047296,tt0070849  \n",
       "8  tt0059749,tt0087803,tt0061184,tt0057877  \n",
       "9  tt0029870,tt0031867,tt0035575,tt0042041  "
      ]
     },
     "execution_count": 32,
     "metadata": {},
     "output_type": "execute_result"
    }
   ],
   "source": [
    "df.head(10)"
   ]
  },
  {
   "cell_type": "code",
   "execution_count": 27,
   "id": "8ae6ac5e",
   "metadata": {},
   "outputs": [
    {
     "data": {
      "text/plain": [
       "'\\nschema = {\\n    nconst = Column(String), # ID\\n    primaryName = Column(String), # name of person\\n    birthYear = Column(Integer), # year of birth\\n    deathYear = Column(Integer), # year of death (if applicable)\\n    primaryProfession = List(Column(String)), # list of professions -> own table?\\n    knownForTitles = List(Column(movie IDs)), # list of project FK -> join\\n}\\n'"
      ]
     },
     "execution_count": 27,
     "metadata": {},
     "output_type": "execute_result"
    }
   ],
   "source": [
    "'''\n",
    "schema = {\n",
    "    nconst = Column(String), # ID\n",
    "    primaryName = Column(String), # name of person\n",
    "    birthYear = Column(Integer), # year of birth\n",
    "    deathYear = Column(Integer), # year of death (if applicable)\n",
    "    primaryProfession = List(Column(String)), # list of professions -> own table?\n",
    "    knownForTitles = List(Column(movie IDs)), # list of project FK -> join\n",
    "}\n",
    "'''"
   ]
  },
  {
   "cell_type": "code",
   "execution_count": 39,
   "id": "ee87a4df",
   "metadata": {},
   "outputs": [],
   "source": [
    "# checking for duplicates\n",
    "duplicates = df.groupby(['nconst']).size().reset_index(name='count')"
   ]
  },
  {
   "cell_type": "code",
   "execution_count": 37,
   "id": "ce619d2f",
   "metadata": {},
   "outputs": [
    {
     "data": {
      "text/html": [
       "<div>\n",
       "<style scoped>\n",
       "    .dataframe tbody tr th:only-of-type {\n",
       "        vertical-align: middle;\n",
       "    }\n",
       "\n",
       "    .dataframe tbody tr th {\n",
       "        vertical-align: top;\n",
       "    }\n",
       "\n",
       "    .dataframe thead th {\n",
       "        text-align: right;\n",
       "    }\n",
       "</style>\n",
       "<table border=\"1\" class=\"dataframe\">\n",
       "  <thead>\n",
       "    <tr style=\"text-align: right;\">\n",
       "      <th></th>\n",
       "      <th>nconst</th>\n",
       "      <th>count</th>\n",
       "    </tr>\n",
       "  </thead>\n",
       "  <tbody>\n",
       "  </tbody>\n",
       "</table>\n",
       "</div>"
      ],
      "text/plain": [
       "Empty DataFrame\n",
       "Columns: [nconst, count]\n",
       "Index: []"
      ]
     },
     "execution_count": 37,
     "metadata": {},
     "output_type": "execute_result"
    }
   ],
   "source": [
    "duplicates[duplicates['count'] > 1] # no dups!"
   ]
  }
 ],
 "metadata": {
  "kernelspec": {
   "display_name": "Python 3 (ipykernel)",
   "language": "python",
   "name": "python3"
  },
  "language_info": {
   "codemirror_mode": {
    "name": "ipython",
    "version": 3
   },
   "file_extension": ".py",
   "mimetype": "text/x-python",
   "name": "python",
   "nbconvert_exporter": "python",
   "pygments_lexer": "ipython3",
   "version": "3.9.16"
  }
 },
 "nbformat": 4,
 "nbformat_minor": 5
}
