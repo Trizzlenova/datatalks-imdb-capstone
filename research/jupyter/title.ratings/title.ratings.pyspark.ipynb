{
 "cells": [
  {
   "cell_type": "code",
   "execution_count": 1,
   "id": "390b1fb3",
   "metadata": {},
   "outputs": [],
   "source": [
    "import pyspark\n",
    "from pyspark.sql import SparkSession, types"
   ]
  },
  {
   "cell_type": "code",
   "execution_count": 2,
   "id": "9d51a6f2",
   "metadata": {},
   "outputs": [
    {
     "name": "stdout",
     "output_type": "stream",
     "text": [
      "--2023-04-09 17:16:59--  https://datasets.imdbws.com/title.ratings.tsv.gz\n",
      "Resolving datasets.imdbws.com (datasets.imdbws.com)... 18.65.229.92, 18.65.229.32, 18.65.229.63, ...\n",
      "Connecting to datasets.imdbws.com (datasets.imdbws.com)|18.65.229.92|:443... connected.\n",
      "HTTP request sent, awaiting response... 200 OK\n",
      "Length: 6522158 (6.2M) [binary/octet-stream]\n",
      "Saving to: ‘title.ratings.tsv.gz’\n",
      "\n",
      "title.ratings.tsv.g 100%[===================>]   6.22M  27.2MB/s    in 0.2s    \n",
      "\n",
      "2023-04-09 17:16:59 (27.2 MB/s) - ‘title.ratings.tsv.gz’ saved [6522158/6522158]\n",
      "\n"
     ]
    }
   ],
   "source": [
    "!wget https://datasets.imdbws.com/title.ratings.tsv.gz"
   ]
  },
  {
   "cell_type": "code",
   "execution_count": 2,
   "id": "0a54434a",
   "metadata": {},
   "outputs": [
    {
     "name": "stderr",
     "output_type": "stream",
     "text": [
      "Setting default log level to \"WARN\".\n",
      "To adjust logging level use sc.setLogLevel(newLevel). For SparkR, use setLogLevel(newLevel).\n"
     ]
    },
    {
     "name": "stdout",
     "output_type": "stream",
     "text": [
      "23/04/23 16:12:49 WARN NativeCodeLoader: Unable to load native-hadoop library for your platform... using builtin-java classes where applicable\n",
      "23/04/23 16:12:50 WARN Utils: Service 'SparkUI' could not bind on port 4040. Attempting port 4041.\n",
      "23/04/23 16:12:50 WARN Utils: Service 'SparkUI' could not bind on port 4041. Attempting port 4042.\n"
     ]
    }
   ],
   "source": [
    "spark = SparkSession.builder \\\n",
    "    .master(\"local[*]\") \\\n",
    "    .appName('test') \\\n",
    "    .getOrCreate()"
   ]
  },
  {
   "cell_type": "code",
   "execution_count": 3,
   "id": "9fdb5908",
   "metadata": {},
   "outputs": [],
   "source": [
    "df = spark.read \\\n",
    "    .option(\"header\", \"true\") \\\n",
    "    .csv('title.ratings.tsv.gz', sep='\\t')"
   ]
  },
  {
   "cell_type": "code",
   "execution_count": 4,
   "id": "13be40b3",
   "metadata": {},
   "outputs": [
    {
     "data": {
      "text/plain": [
       "1299152"
      ]
     },
     "execution_count": 4,
     "metadata": {},
     "output_type": "execute_result"
    }
   ],
   "source": [
    "df.count()"
   ]
  },
  {
   "cell_type": "code",
   "execution_count": 5,
   "id": "3a871fb3",
   "metadata": {},
   "outputs": [
    {
     "name": "stdout",
     "output_type": "stream",
     "text": [
      "+---------+-------------+--------+\n",
      "|   tconst|averageRating|numVotes|\n",
      "+---------+-------------+--------+\n",
      "|tt0000001|          5.7|    1965|\n",
      "|tt0000002|          5.8|     262|\n",
      "|tt0000003|          6.5|    1806|\n",
      "|tt0000004|          5.6|     178|\n",
      "|tt0000005|          6.2|    2604|\n",
      "|tt0000006|          5.1|     179|\n",
      "|tt0000007|          5.4|     816|\n",
      "|tt0000008|          5.4|    2101|\n",
      "|tt0000009|          5.3|     204|\n",
      "|tt0000010|          6.9|    7104|\n",
      "|tt0000011|          5.3|     366|\n",
      "|tt0000012|          7.4|   12187|\n",
      "|tt0000013|          5.7|    1877|\n",
      "|tt0000014|          7.1|    5479|\n",
      "|tt0000015|          6.2|    1079|\n",
      "|tt0000016|          5.9|    1491|\n",
      "|tt0000017|          4.6|     325|\n",
      "|tt0000018|          5.3|     593|\n",
      "|tt0000019|          5.1|      31|\n",
      "|tt0000020|          4.8|     356|\n",
      "+---------+-------------+--------+\n",
      "only showing top 20 rows\n",
      "\n"
     ]
    }
   ],
   "source": [
    "df.show()"
   ]
  },
  {
   "cell_type": "code",
   "execution_count": 7,
   "id": "8ae6ac5e",
   "metadata": {},
   "outputs": [
    {
     "data": {
      "text/plain": [
       "'\\nschema = {\\n    tconst = Column(String), # FK title\\n    averageRating = Column(Float),\\n    numVotes = Column(Integer)\\n}\\n'"
      ]
     },
     "execution_count": 7,
     "metadata": {},
     "output_type": "execute_result"
    }
   ],
   "source": [
    "'''\n",
    "schema = {\n",
    "    tconst = Column(String), # FK title\n",
    "    averageRating = Column(Double),\n",
    "    numVotes = Column(Integer)\n",
    "}\n",
    "'''"
   ]
  },
  {
   "cell_type": "code",
   "execution_count": 6,
   "id": "26702c2f",
   "metadata": {},
   "outputs": [],
   "source": [
    "from pyspark.sql import types\n",
    "title_schema = types.StructType([\n",
    "    types.StructField('tconst', types.StringType(), True),\n",
    "    types.StructField('averageRating', types.IntegerType(), True),\n",
    "    types.StructField('numVotes', types.IntegerType(), True),\n",
    "])"
   ]
  },
  {
   "cell_type": "code",
   "execution_count": 7,
   "id": "3c5af844",
   "metadata": {},
   "outputs": [],
   "source": [
    "df = spark.read \\\n",
    "    .option(\"header\", \"true\") \\\n",
    "    .csv(\n",
    "        'title.ratings.tsv.gz', \n",
    "        sep='\\t',\n",
    "        schema=title_schema\n",
    "    )"
   ]
  },
  {
   "cell_type": "code",
   "execution_count": 8,
   "id": "c514c1b1",
   "metadata": {},
   "outputs": [
    {
     "data": {
      "text/plain": [
       "1299152"
      ]
     },
     "execution_count": 8,
     "metadata": {},
     "output_type": "execute_result"
    }
   ],
   "source": [
    "df.count()"
   ]
  }
 ],
 "metadata": {
  "kernelspec": {
   "display_name": "Python 3 (ipykernel)",
   "language": "python",
   "name": "python3"
  },
  "language_info": {
   "codemirror_mode": {
    "name": "ipython",
    "version": 3
   },
   "file_extension": ".py",
   "mimetype": "text/x-python",
   "name": "python",
   "nbconvert_exporter": "python",
   "pygments_lexer": "ipython3",
   "version": "3.9.16"
  }
 },
 "nbformat": 4,
 "nbformat_minor": 5
}
